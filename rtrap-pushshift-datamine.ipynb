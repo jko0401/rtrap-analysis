{
 "cells": [
  {
   "cell_type": "code",
   "execution_count": 51,
   "metadata": {},
   "outputs": [],
   "source": [
    "import pandas as pd\n",
    "import requests\n",
    "import json\n",
    "import csv\n",
    "import time\n",
    "import datetime as dt"
   ]
  },
  {
   "cell_type": "code",
   "execution_count": 59,
   "metadata": {},
   "outputs": [],
   "source": [
    "def getPushshiftData(query, after, before, sub):\n",
    "    url = 'https://api.pushshift.io/reddit/search/submission/?title='+str(query)+'&size=1000&after='+str(after)+'&before='+str(before)+'&subreddit='+str(sub)\n",
    "    r = requests.get(url)\n",
    "    try:\n",
    "        data = json.loads(r.text)\n",
    "        print(url)\n",
    "    except Exception:\n",
    "        print(\"Failed to parse:\")\n",
    "        print(data.content)\n",
    "    return data['data']"
   ]
  },
  {
   "cell_type": "code",
   "execution_count": 61,
   "metadata": {},
   "outputs": [],
   "source": [
    "def collectSubData(subm):\n",
    "    subData = list() #list to store data points\n",
    "    title = subm['title']\n",
    "    url = subm['url']\n",
    "    author = subm['author']\n",
    "    sub_id = subm['id']\n",
    "    score = subm['score']\n",
    "    created = datetime.datetime.fromtimestamp(subm['created_utc']) \n",
    "    numComms = subm['num_comments']\n",
    "    permalink = subm['permalink']\n",
    "    try:\n",
    "        selftext = subm['selftext']\n",
    "    except KeyError:\n",
    "        selftext = \"NaN\"    \n",
    "    \n",
    "    subData.append((sub_id,title,url,author,score,selftext,created,numComms,permalink))\n",
    "    subStats[sub_id] = subData"
   ]
  },
  {
   "cell_type": "code",
   "execution_count": 57,
   "metadata": {},
   "outputs": [],
   "source": [
    "#Subreddit to query\n",
    "sub='Trap'\n",
    "#before and after dates\n",
    "before = dt.datetime(2020, 1, 1)\n",
    "after = dt.datetime(2012, 5, 20)\n",
    "query = \"\"\n",
    "subCount = 0\n",
    "subStats = {}\n"
   ]
  },
  {
   "cell_type": "code",
   "execution_count": 62,
   "metadata": {
    "scrolled": true
   },
   "outputs": [
    {
     "name": "stdout",
     "output_type": "stream",
     "text": [
      "https://api.pushshift.io/reddit/search/submission/?title=&size=1000&after=1500358802&before=2020-01-01 00:00:00&subreddit=Trap\n",
      "1000\n",
      "2017-08-01 20:29:27\n",
      "https://api.pushshift.io/reddit/search/submission/?title=&size=1000&after=1501644567&before=2020-01-01 00:00:00&subreddit=Trap\n",
      "1000\n",
      "2017-08-16 15:18:09\n",
      "https://api.pushshift.io/reddit/search/submission/?title=&size=1000&after=1502921889&before=2020-01-01 00:00:00&subreddit=Trap\n",
      "1000\n",
      "2017-08-31 07:26:16\n",
      "https://api.pushshift.io/reddit/search/submission/?title=&size=1000&after=1504189576&before=2020-01-01 00:00:00&subreddit=Trap\n",
      "1000\n",
      "2017-09-16 21:53:12\n",
      "https://api.pushshift.io/reddit/search/submission/?title=&size=1000&after=1505623992&before=2020-01-01 00:00:00&subreddit=Trap\n",
      "1000\n",
      "2017-10-02 19:09:09\n",
      "https://api.pushshift.io/reddit/search/submission/?title=&size=1000&after=1506996549&before=2020-01-01 00:00:00&subreddit=Trap\n",
      "1000\n",
      "2017-10-17 08:56:24\n",
      "https://api.pushshift.io/reddit/search/submission/?title=&size=1000&after=1508255784&before=2020-01-01 00:00:00&subreddit=Trap\n",
      "1000\n",
      "2017-10-30 12:55:10\n",
      "https://api.pushshift.io/reddit/search/submission/?title=&size=1000&after=1509393310&before=2020-01-01 00:00:00&subreddit=Trap\n",
      "1000\n",
      "2017-11-13 12:58:41\n",
      "https://api.pushshift.io/reddit/search/submission/?title=&size=1000&after=1510606721&before=2020-01-01 00:00:00&subreddit=Trap\n",
      "1000\n",
      "2017-11-29 18:15:04\n",
      "https://api.pushshift.io/reddit/search/submission/?title=&size=1000&after=1512008104&before=2020-01-01 00:00:00&subreddit=Trap\n",
      "1000\n",
      "2017-12-16 04:39:10\n",
      "https://api.pushshift.io/reddit/search/submission/?title=&size=1000&after=1513427950&before=2020-01-01 00:00:00&subreddit=Trap\n",
      "1000\n",
      "2018-01-03 12:55:45\n",
      "https://api.pushshift.io/reddit/search/submission/?title=&size=1000&after=1515012945&before=2020-01-01 00:00:00&subreddit=Trap\n",
      "1000\n",
      "2018-01-20 03:58:18\n",
      "https://api.pushshift.io/reddit/search/submission/?title=&size=1000&after=1516449498&before=2020-01-01 00:00:00&subreddit=Trap\n",
      "1000\n",
      "2018-02-04 08:27:23\n",
      "https://api.pushshift.io/reddit/search/submission/?title=&size=1000&after=1517761643&before=2020-01-01 00:00:00&subreddit=Trap\n",
      "1000\n",
      "2018-02-20 12:00:03\n",
      "https://api.pushshift.io/reddit/search/submission/?title=&size=1000&after=1519156803&before=2020-01-01 00:00:00&subreddit=Trap\n",
      "1000\n",
      "2018-03-08 10:30:17\n",
      "https://api.pushshift.io/reddit/search/submission/?title=&size=1000&after=1520533817&before=2020-01-01 00:00:00&subreddit=Trap\n",
      "1000\n",
      "2018-03-22 08:54:30\n",
      "https://api.pushshift.io/reddit/search/submission/?title=&size=1000&after=1521734070&before=2020-01-01 00:00:00&subreddit=Trap\n",
      "1000\n",
      "2018-04-06 04:38:55\n",
      "https://api.pushshift.io/reddit/search/submission/?title=&size=1000&after=1523014735&before=2020-01-01 00:00:00&subreddit=Trap\n",
      "1000\n",
      "2018-04-22 09:32:13\n",
      "https://api.pushshift.io/reddit/search/submission/?title=&size=1000&after=1524414733&before=2020-01-01 00:00:00&subreddit=Trap\n",
      "1000\n",
      "2018-05-08 14:11:11\n",
      "https://api.pushshift.io/reddit/search/submission/?title=&size=1000&after=1525813871&before=2020-01-01 00:00:00&subreddit=Trap\n",
      "1000\n",
      "2018-05-27 06:09:41\n",
      "https://api.pushshift.io/reddit/search/submission/?title=&size=1000&after=1527426581&before=2020-01-01 00:00:00&subreddit=Trap\n",
      "1000\n",
      "2018-06-13 19:16:19\n",
      "https://api.pushshift.io/reddit/search/submission/?title=&size=1000&after=1528942579&before=2020-01-01 00:00:00&subreddit=Trap\n",
      "1000\n",
      "2018-07-02 12:56:06\n",
      "https://api.pushshift.io/reddit/search/submission/?title=&size=1000&after=1530561366&before=2020-01-01 00:00:00&subreddit=Trap\n",
      "1000\n",
      "2018-07-20 10:03:39\n",
      "https://api.pushshift.io/reddit/search/submission/?title=&size=1000&after=1532106219&before=2020-01-01 00:00:00&subreddit=Trap\n",
      "1000\n",
      "2018-08-06 10:22:27\n",
      "https://api.pushshift.io/reddit/search/submission/?title=&size=1000&after=1533576147&before=2020-01-01 00:00:00&subreddit=Trap\n",
      "1000\n",
      "2018-08-24 06:05:03\n",
      "https://api.pushshift.io/reddit/search/submission/?title=&size=1000&after=1535115903&before=2020-01-01 00:00:00&subreddit=Trap\n",
      "1000\n",
      "2018-09-13 23:19:18\n",
      "https://api.pushshift.io/reddit/search/submission/?title=&size=1000&after=1536905958&before=2020-01-01 00:00:00&subreddit=Trap\n",
      "1000\n",
      "2018-10-02 19:53:04\n",
      "https://api.pushshift.io/reddit/search/submission/?title=&size=1000&after=1538535184&before=2020-01-01 00:00:00&subreddit=Trap\n",
      "1000\n",
      "2018-10-21 16:03:56\n",
      "https://api.pushshift.io/reddit/search/submission/?title=&size=1000&after=1540163036&before=2020-01-01 00:00:00&subreddit=Trap\n",
      "1000\n",
      "2018-11-08 14:20:54\n",
      "https://api.pushshift.io/reddit/search/submission/?title=&size=1000&after=1541715654&before=2020-01-01 00:00:00&subreddit=Trap\n",
      "1000\n",
      "2018-11-29 19:33:29\n",
      "https://api.pushshift.io/reddit/search/submission/?title=&size=1000&after=1543548809&before=2020-01-01 00:00:00&subreddit=Trap\n",
      "1000\n",
      "2018-12-17 17:51:11\n",
      "https://api.pushshift.io/reddit/search/submission/?title=&size=1000&after=1545097871&before=2020-01-01 00:00:00&subreddit=Trap\n",
      "1000\n",
      "2019-01-09 12:45:11\n",
      "https://api.pushshift.io/reddit/search/submission/?title=&size=1000&after=1547066711&before=2020-01-01 00:00:00&subreddit=Trap\n",
      "1000\n",
      "2019-01-28 08:39:28\n",
      "https://api.pushshift.io/reddit/search/submission/?title=&size=1000&after=1548693568&before=2020-01-01 00:00:00&subreddit=Trap\n",
      "1000\n",
      "2019-02-14 09:33:07\n",
      "https://api.pushshift.io/reddit/search/submission/?title=&size=1000&after=1550165587&before=2020-01-01 00:00:00&subreddit=Trap\n",
      "1000\n",
      "2019-03-06 01:38:27\n",
      "https://api.pushshift.io/reddit/search/submission/?title=&size=1000&after=1551865107&before=2020-01-01 00:00:00&subreddit=Trap\n",
      "1000\n",
      "2019-03-25 14:30:56\n",
      "https://api.pushshift.io/reddit/search/submission/?title=&size=1000&after=1553549456&before=2020-01-01 00:00:00&subreddit=Trap\n",
      "1000\n",
      "2019-04-12 12:29:26\n",
      "https://api.pushshift.io/reddit/search/submission/?title=&size=1000&after=1555097366&before=2020-01-01 00:00:00&subreddit=Trap\n",
      "1000\n",
      "2019-05-04 12:24:26\n",
      "https://api.pushshift.io/reddit/search/submission/?title=&size=1000&after=1556997866&before=2020-01-01 00:00:00&subreddit=Trap\n",
      "1000\n",
      "2019-05-26 20:25:38\n",
      "https://api.pushshift.io/reddit/search/submission/?title=&size=1000&after=1558927538&before=2020-01-01 00:00:00&subreddit=Trap\n",
      "1000\n",
      "2019-06-19 02:39:12\n",
      "https://api.pushshift.io/reddit/search/submission/?title=&size=1000&after=1560937152&before=2020-01-01 00:00:00&subreddit=Trap\n",
      "1000\n",
      "2019-07-12 15:11:48\n",
      "https://api.pushshift.io/reddit/search/submission/?title=&size=1000&after=1562969508&before=2020-01-01 00:00:00&subreddit=Trap\n",
      "1000\n",
      "2019-08-05 15:36:02\n",
      "https://api.pushshift.io/reddit/search/submission/?title=&size=1000&after=1565044562&before=2020-01-01 00:00:00&subreddit=Trap\n",
      "1000\n",
      "2019-08-29 10:57:40\n",
      "https://api.pushshift.io/reddit/search/submission/?title=&size=1000&after=1567101460&before=2020-01-01 00:00:00&subreddit=Trap\n",
      "1000\n",
      "2019-09-25 15:33:49\n",
      "https://api.pushshift.io/reddit/search/submission/?title=&size=1000&after=1569450829&before=2020-01-01 00:00:00&subreddit=Trap\n",
      "1000\n",
      "2019-10-22 11:55:09\n",
      "https://api.pushshift.io/reddit/search/submission/?title=&size=1000&after=1571770509&before=2020-01-01 00:00:00&subreddit=Trap\n",
      "1000\n",
      "2019-11-15 11:01:23\n",
      "https://api.pushshift.io/reddit/search/submission/?title=&size=1000&after=1573844483&before=2020-01-01 00:00:00&subreddit=Trap\n",
      "1000\n",
      "2019-12-11 09:18:13\n",
      "https://api.pushshift.io/reddit/search/submission/?title=&size=1000&after=1576084693&before=2020-01-01 00:00:00&subreddit=Trap\n",
      "672\n",
      "2019-12-31 15:24:11\n",
      "https://api.pushshift.io/reddit/search/submission/?title=&size=1000&after=1577834651&before=2020-01-01 00:00:00&subreddit=Trap\n",
      "0\n"
     ]
    }
   ],
   "source": [
    "# Will run until all posts have been gathered \n",
    "# from the 'after' date up until before date\n",
    "data = getPushshiftData(query, after, before, sub)\n",
    "while len(data) > 0:\n",
    "    for submission in data:\n",
    "        collectSubData(submission)\n",
    "        subCount+=1\n",
    "    # Calls getPushshiftData() with the created date of the last submission\n",
    "    print(len(data))\n",
    "    print(str(datetime.datetime.fromtimestamp(data[-1]['created_utc'])))\n",
    "    after = data[-1]['created_utc']\n",
    "    data = getPushshiftData(query, after, before, sub)\n",
    "    \n",
    "print(len(data))"
   ]
  },
  {
   "cell_type": "code",
   "execution_count": 63,
   "metadata": {},
   "outputs": [
    {
     "name": "stdout",
     "output_type": "stream",
     "text": [
      "155672 submissions have added to list\n",
      "1st entry is:\n",
      "Hudson Mohawk - Gooo created: \n",
      "Last entry is:\n",
      "Spotify playlists with trap songs (no lyrics) created: Any good spotify playlists with songs like TheFatRat Xenogenesis?\n",
      "Thx\n"
     ]
    }
   ],
   "source": [
    "print(str(len(subStats)) + \" submissions have added to list\")\n",
    "print(\"1st entry is:\")\n",
    "print(list(subStats.values())[0][0][1] + \" created: \" + str(list(subStats.values())[0][0][5]))\n",
    "print(\"Last entry is:\")\n",
    "print(list(subStats.values())[-1][0][1] + \" created: \" + str(list(subStats.values())[-1][0][5]))"
   ]
  },
  {
   "cell_type": "code",
   "execution_count": 69,
   "metadata": {},
   "outputs": [
    {
     "name": "stdout",
     "output_type": "stream",
     "text": [
      "[('tybhx', 'Hudson Mohawk - Gooo', 'http://www.youtube.com/watch?v=wh947EV_dyM', 'cc132', 8, '', datetime.datetime(2012, 5, 21, 16, 23, 59), 1, '/r/trap/comments/tybhx/hudson_mohawk_gooo/')]\n"
     ]
    }
   ],
   "source": [
    "print(list(subStats.values())[0])"
   ]
  },
  {
   "cell_type": "code",
   "execution_count": 74,
   "metadata": {},
   "outputs": [
    {
     "name": "stdout",
     "output_type": "stream",
     "text": [
      "input filename of submission file, please add .csv\n",
      "rtrap-2012-5-20-2020-1-1.csv\n",
      "155672 submissions have been uploaded\n"
     ]
    }
   ],
   "source": [
    "def updateSubs_file():\n",
    "    upload_count = 0\n",
    "    print(\"input filename of submission file, please add .csv\")\n",
    "    filename = input()\n",
    "    with open(filename, 'w', newline='', encoding='utf-8') as file: \n",
    "        a = csv.writer(file, delimiter=',')\n",
    "        headers = [\"Submission ID\",\"Title\",\"Url\",\"Author\",\"Score\",\"Body Text\",\"Date Created\",\"Comments\", \"Permalink\"]\n",
    "        a.writerow(headers)\n",
    "        for sub in subStats:\n",
    "            a.writerow(subStats[sub][0])\n",
    "            upload_count+=1\n",
    "            \n",
    "        print(str(upload_count) + \" submissions have been uploaded\")\n",
    "        \n",
    "updateSubs_file()"
   ]
  },
  {
   "cell_type": "code",
   "execution_count": null,
   "metadata": {},
   "outputs": [],
   "source": []
  }
 ],
 "metadata": {
  "kernelspec": {
   "display_name": "Python 3",
   "language": "python",
   "name": "python3"
  },
  "language_info": {
   "codemirror_mode": {
    "name": "ipython",
    "version": 3
   },
   "file_extension": ".py",
   "mimetype": "text/x-python",
   "name": "python",
   "nbconvert_exporter": "python",
   "pygments_lexer": "ipython3",
   "version": "3.7.6"
  }
 },
 "nbformat": 4,
 "nbformat_minor": 4
}
